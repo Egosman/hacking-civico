{
  "nbformat": 4,
  "nbformat_minor": 0,
  "metadata": {
    "colab": {
      "name": "01-python.ipynb",
      "provenance": [],
      "authorship_tag": "ABX9TyNlbZWMweiS35oJJ9UXDLly",
      "include_colab_link": true
    },
    "kernelspec": {
      "name": "python3",
      "display_name": "Python 3"
    }
  },
  "cells": [
    {
      "cell_type": "markdown",
      "metadata": {
        "id": "view-in-github",
        "colab_type": "text"
      },
      "source": [
        "<a href=\"https://colab.research.google.com/github/Egosman/hacking-civico/blob/master/notebooks/01_python.ipynb\" target=\"_parent\"><img src=\"https://colab.research.google.com/assets/colab-badge.svg\" alt=\"Open In Colab\"/></a>"
      ]
    },
    {
      "cell_type": "markdown",
      "metadata": {
        "id": "e0j3ldMiDNOY"
      },
      "source": [
        "<p align=\"center\">\n",
        "<img src=\"http://codeandomexico.org/resources/img/codeandomexico.png\" width=\"500\" alt=\"Codeando México\"><br>\n",
        "<a href=\"http://www.codeandomexico.org/\" target=\"_blank\"><img src=\"https://img.shields.io/badge/website-CodeandoMexico-00D88E.svg\"></a>\n",
        "<a href=\"http://slack.codeandomexico.org/\" target=\"_blank\"><img src=\"https://img.shields.io/badge/slack-CodeandoMexico-EC0E4F.svg\"></a>\n",
        "</p>\n",
        "<!-- __ -->\n",
        "\n",
        "# Curso de Datos Abiertos y Hacking Cívico\n",
        "\n",
        "Este curso tiene como objetivo habilitar las capacidades de la ciudadanía y los servidores públicos en el uso y generación de datos abiertos para el bien común. Está estructurado en tres módulos consecutivos, llamados “_rutas_”, cada una de estas rutas está diseñada para abarcar temas específicos. El curso es virtual de tipo autogestivo.\n",
        "\n",
        "_No se requiere de conocimiento previo sobre los temas, el nivel del curso abarca conceptos básicos a intermedios._\n",
        "\n",
        "1. Ruta Cívica ⚡️ : Conoce qué son los datos abiertos y la tecnología cívica.\n",
        "2. Ruta Coder ⌨️ : Comienza a programar y desarrolla tus primeros hacks cívicos.\n",
        "4. Ruta Hacker 👾 : Pon en uso tus habilidades de programación y desarrollo.\n",
        "\n",
        "## Tabla de contenidos\n",
        "\n",
        "- [Estructura del repositorio](#estructura-del-repositorio)\n",
        "- [Contenidos del curso](#contenidos-del-curso)\n",
        "- [Código de conducta](#código-de-conducta)\n",
        "- [Agradecimientos](#agradecimientos)\n",
        "- [Licencia](#licencia)\n",
        "\n",
        "\n",
        "## Estructura del repositorio\n",
        "\n",
        "Este repositorio está diseñado para que realices un [Fork](https://docs.github.com/es/github/getting-started-with-github/fork-a-repo) del mismo y contiene varias carpetas y/o archivos que organizan el contenido del mismo:\n",
        "\n",
        "- [Notebooks 📓](/notebooks) - aquí podrás guardar tus Notebooks de Google Colab.\n",
        "- [Proyecto 📑](/proyecto) - aquí documentarás tu proyecto.\n",
        "- [Recursos 🗂](/recursos) - aquí podrás subir otros archivos como imágenes, PDFs, etc.\n",
        "- [Tareas 📝](/tareas) - aquí subirás los ejercicios o tareas.\n",
        "- [README 📌](https://github.com/CodeandoMexico/hacking-civico/blob/master/README.md) - documento con las indicaciones sobre este repositorio.\n",
        "\n",
        "Adicionalmente estaremos usando el repositorio original para llevar el control del curso de la siguiente manera:\n",
        "\n",
        "- [Issues](https://github.com/CodeandoMexico/hacking-civico/issues) - para entregar tareas y tener un espacio de discusión con los demás participantes.\n",
        "- [Projects](https://github.com/CodeandoMexico/hacking-civico/projects) - para poner anuncios, llevar un control de las sesiones y actividades.\n",
        "- [Wiki](https://github.com/CodeandoMexico/hacking-civico/wiki) - para subir todo el contenido del curso y material adicional.\n",
        "\n",
        "\n",
        "## Contenidos del curso\n",
        "\n",
        "A continuación se presenta la tabla que contiene todos los contenidos a ser cubiertos, y la fecha correspondiente de la liberación del contenido.\n",
        "\n",
        "<table width=\"100%\">\n",
        "    <thead>\n",
        "        <tr>\n",
        "            <th colspan=\"2\">Tema</th>\n",
        "            <th>Fecha de inicio</th>\n",
        "            <th>Entregable</th>\n",
        "        </tr>\n",
        "    </thead>\n",
        "    <tbody>\n",
        "        <tr>\n",
        "            <th rowspan=\"2\">RUTA CÍVICA</th>\n",
        "            <td>​Introducción​: Hacking Cívico + Open Data 101</td>\n",
        "            <td>27/10/2020</td>\n",
        "            <td><a href=\"https://github.com/CodeandoMexico/hacking-civico/issues/3\" target=\"_blank\">Tarea 1</a></td>\n",
        "        </tr>\n",
        "        <tr>\n",
        "            <td>GitHub​: Construyendo ciudadanía un commit a la vez</td>\n",
        "            <td>27/10/2020</td>\n",
        "            <td><a href=\"#\" target=\"_blank\">&nbsp; - </a></td>\n",
        "        </tr>\n",
        "        <tr>\n",
        "            <th rowspan=\"4\">RUTA CODER</th>\n",
        "            <td>​Python 101​: Introducción al código</td>\n",
        "            <td>02/11/2020</td>\n",
        "            <td><a href=\"https://github.com/CodeandoMexico/hacking-civico/issues/13\" target=\"_blank\">Tarea 2</a></td>\n",
        "        </tr>\n",
        "        <tr>\n",
        "            <td>Exploración​: Manipulación y limpieza de datos</td>\n",
        "            <td>02/11/2020</td>\n",
        "            <td><a href=\"https://github.com/CodeandoMexico/hacking-civico/issues/15\" target=\"_blank\">Tarea 3</a></td>\n",
        "        </tr>\n",
        "            <td>Visualización​: Resumir y comprender los datos</td>\n",
        "            <td>02/11/2020</td>\n",
        "            <td><a href=\"https://github.com/CodeandoMexico/hacking-civico/issues/19\" target=\"_blank\">Tarea 4</a></td>\n",
        "        </tr>\n",
        "        <tr>\n",
        "            <td>Proyecto: inicio e investigación</td>\n",
        "            <td>16/11/2020</td>\n",
        "            <td><a href=\"https://github.com/CodeandoMexico/hacking-civico/issues/20\" target=\"_blank\">Indicaciones</a></td>\n",
        "        </tr>\n",
        "        <tr>\n",
        "            <th rowspan=\"3\">RUTA HACKER</th>\n",
        "            <td>Scrapeando datos cívicos</td>\n",
        "            <td>16/11/2020</td>\n",
        "            <td><a href=\"#\" target=\"_blank\">&nbsp;</a></td>\n",
        "        </tr>\n",
        "        <tr>\n",
        "            <td>​APIs cívicas​: Sirviendo y consumiendo data</td>\n",
        "            <td>16/11/2020</td>\n",
        "            <td><a href=\"#\" target=\"_blank\">&nbsp;</a></td>\n",
        "        </tr>\n",
        "        <tr>\n",
        "            <td>​Mapas​: Trabajando con datos georreferenciados</td>\n",
        "            <td>16/11/2020</td>\n",
        "            <td><a href=\"#\" target=\"_blank\">&nbsp;</a></td>\n",
        "        </tr>\n",
        "    </tbody>\n",
        "</table>\n",
        "\n",
        "\n",
        "\n",
        "\n",
        "---\n",
        "\n"
      ]
    },
    {
      "cell_type": "code",
      "metadata": {
        "colab": {
          "base_uri": "https://localhost:8080/"
        },
        "id": "DA_WaXWTEV7f",
        "outputId": "2a5af68b-79ad-469e-cc51-a4be6590cb39"
      },
      "source": [
        "print(\"Hola mundo\")"
      ],
      "execution_count": 1,
      "outputs": [
        {
          "output_type": "stream",
          "text": [
            "Hola mundo\n"
          ],
          "name": "stdout"
        }
      ]
    }
  ]
}