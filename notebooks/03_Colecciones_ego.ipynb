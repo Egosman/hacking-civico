{
  "nbformat": 4,
  "nbformat_minor": 0,
  "metadata": {
    "colab": {
      "name": "03-Colecciones-ego.ipynb",
      "provenance": [],
      "authorship_tag": "ABX9TyOyEi3kKLWb8LiU2XOgTbMR",
      "include_colab_link": true
    },
    "kernelspec": {
      "name": "python3",
      "display_name": "Python 3"
    }
  },
  "cells": [
    {
      "cell_type": "markdown",
      "metadata": {
        "id": "view-in-github",
        "colab_type": "text"
      },
      "source": [
        "<a href=\"https://colab.research.google.com/github/Egosman/hacking-civico/blob/master/notebooks/03_Colecciones_ego.ipynb\" target=\"_parent\"><img src=\"https://colab.research.google.com/assets/colab-badge.svg\" alt=\"Open In Colab\"/></a>"
      ]
    },
    {
      "cell_type": "markdown",
      "metadata": {
        "id": "zKQ6pRbHJdIT"
      },
      "source": [
        "<p align=\"center\">\n",
        "<img src=\"http://codeandomexico.org/resources/img/codeandomexico.png\" width=\"500\" alt=\"Codeando México\"><br>\n",
        "<a href=\"http://www.codeandomexico.org/\" target=\"_blank\"><img src=\"https://img.shields.io/badge/website-CodeandoMexico-00D88E.svg\"></a>\n",
        "<a href=\"http://slack.codeandomexico.org/\" target=\"_blank\"><img src=\"https://img.shields.io/badge/slack-CodeandoMexico-EC0E4F.svg\"></a>\n",
        "</p>\n",
        "<!-- __ -->\n",
        "\n",
        "# Curso de Datos Abiertos y Hacking Cívico\n",
        "\n",
        "Este curso tiene como objetivo habilitar las capacidades de la ciudadanía y los servidores públicos en el uso y generación de datos abiertos para el bien común. Puedes encontrar más información [aquí](https://github.com/CodeandoMexico/hacking-civico)."
      ]
    },
    {
      "cell_type": "markdown",
      "metadata": {
        "id": "Dr4r2w-ZKNuL"
      },
      "source": [
        "# Python 101: Colecciones\n",
        "\n",
        "A lo largo de este Notebook se explicarán colecciones en Python. Los contenidos específicos a cubrir en este cuaderno interactivo son los siguientes:\n",
        "\n",
        "1. Listas\n",
        "2. Indexación\n",
        "3. Diccionarios\n",
        "4. Casos de uso"
      ]
    },
    {
      "cell_type": "markdown",
      "metadata": {
        "id": "zJbeRnwXM_JN"
      },
      "source": [
        "## Listas\n",
        "\n",
        "Una lista es una colección ordenada de objetos, donde dichos objetos pueden ser de cualquier tipo (`int`, `float`, etc.).\n",
        "\n",
        "Las listas se crean de manera similar a una variable, respetando las reglas de nombreamiento y asignación.\n",
        "\n",
        "Para crear una lista, los elementos se ponen dentro de corchetes `[ ]`.\n",
        "\n",
        "**Veamos un ejemplo.**\n",
        "\n",
        "Supongamos que tenemos una lista de periodos (años) en los que se han estado recopilando datos de especies de árboles pertenecientes al vivero municipal de León.\n",
        "\n",
        "En este ejemplo suponfremos que los datos son almacenados en un archivo de Excel, pero para fines prácticos de este ejemplo, los cargaremos en formato de lista en Python (un poco como motivación, pues en el siguiente módulo podremos acceder a datos desde archivos estructurados)."
      ]
    },
    {
      "cell_type": "code",
      "metadata": {
        "id": "9Wb18RJzJQVC",
        "colab": {
          "base_uri": "https://localhost:8080/"
        },
        "outputId": "5f46c23e-54da-4dad-9215-b5bd9fd39de0"
      },
      "source": [
        "periodos = [\n",
        "    '2015',\n",
        "    '2016',\n",
        "    '2017',\n",
        "    '2018'\n",
        "]\n",
        "\n",
        "print(periodos)"
      ],
      "execution_count": 1,
      "outputs": [
        {
          "output_type": "stream",
          "text": [
            "['2015', '2016', '2017', '2018']\n"
          ],
          "name": "stdout"
        }
      ]
    },
    {
      "cell_type": "markdown",
      "metadata": {
        "id": "QTRORgXxOxT0"
      },
      "source": [
        "De este ejemplo podemos darnos cuenta que en lugar de almacenar una variable para cada periodo, podemos crear una lista que contenga a todos los periodos."
      ]
    },
    {
      "cell_type": "markdown",
      "metadata": {
        "id": "JE-tvJ4UVSa1"
      },
      "source": [
        "**Ejercicio:** Crea una lista llamada `hobbies`, donde añadas cadenas de texo con tus hobbies favoritos e imprime dicha lista. Un ejemplo sería:\n",
        "\n",
        "```python\n",
        "hobbies = [\n",
        "    'leer',\n",
        "    'programar',\n",
        "    'ver series en Netflix'\n",
        "]\n",
        "```"
      ]
    },
    {
      "cell_type": "code",
      "metadata": {
        "id": "6FupoYDhVqbW",
        "colab": {
          "base_uri": "https://localhost:8080/"
        },
        "outputId": "3743da81-61d5-4dac-d1cb-96587ec460d4"
      },
      "source": [
        "# Codigo de Osman\n",
        "hobbies = [\n",
        "           'leer',\n",
        "           'nadar',\n",
        "           'entrenar',\n",
        "           'programar'\n",
        "]\n",
        "print(hobbies)"
      ],
      "execution_count": 3,
      "outputs": [
        {
          "output_type": "stream",
          "text": [
            "['leer', 'nadar', 'entrenar', 'programar']\n"
          ],
          "name": "stdout"
        }
      ]
    },
    {
      "cell_type": "markdown",
      "metadata": {
        "id": "C6yowUR-Nsf8"
      },
      "source": [
        "Supongamos que a la lista anterior de periodos queremos agregar dos periodos más `2019` y `2020`. Para ello, las listas tienen un método propio que se llama `append`, donde como argumento le especificamos qué más nos gustaría agregar a la lista:"
      ]
    },
    {
      "cell_type": "code",
      "metadata": {
        "colab": {
          "base_uri": "https://localhost:8080/"
        },
        "id": "wgZY1LJ5wbzy",
        "outputId": "1322c900-a2c0-4ac9-a525-7cf6a79e21e8"
      },
      "source": [
        "# Agregamos 2019 y 2020 para periodos\n",
        "\n",
        "periodos.append('2019')\n",
        "periodos.append('2020')\n",
        "print(periodos)"
      ],
      "execution_count": 4,
      "outputs": [
        {
          "output_type": "stream",
          "text": [
            "['2015', '2016', '2017', '2018', '2019', '2020']\n"
          ],
          "name": "stdout"
        }
      ]
    },
    {
      "cell_type": "markdown",
      "metadata": {
        "id": "EjdTV7rZVwoh"
      },
      "source": [
        "**Ejercicio:** Añade dos hobbies más a tu lista de hobbies utilizando `append` e imprime la nueva lista."
      ]
    },
    {
      "cell_type": "code",
      "metadata": {
        "colab": {
          "base_uri": "https://localhost:8080/"
        },
        "id": "8cQ0qGIlw8sr",
        "outputId": "8b500418-95cf-4bfc-fca4-b553943bf445"
      },
      "source": [
        "hobbies.append('meditar')\n",
        "hobbies.append('correr')\n",
        "print(hobbies)"
      ],
      "execution_count": 6,
      "outputs": [
        {
          "output_type": "stream",
          "text": [
            "['leer', 'nadar', 'entrenar', 'programar', 'meditar', 'correr', 'meditar', 'correr']\n"
          ],
          "name": "stdout"
        }
      ]
    },
    {
      "cell_type": "markdown",
      "metadata": {
        "id": "BLQmFRC2NC1f"
      },
      "source": [
        "## Indexación\n",
        "\n",
        "Podríamos pensar en que si quisiea accesar a un periodo específico, tendría mayor ventaja el crear una variable para cada valor del periodo, **lo que nos lleva a preguntarnos de qué manera podemos acceder a un valor específico.** Esto podemos resolverlo accediendo a la información de una lista mediante **índices**.\n",
        "\n",
        "Para nuestro caso, un índice será un valor numérico que especifica la posición del elemento de una lista. Los índices inician en 0 y llegan, de este modo, hasta el número de elementos de la lista, menos 1. Para poder acceder a los elementos de una lista, especificaremos el índice entre corchetes.\n",
        "\n",
        "Por ejemplo, para imprimir el valor correspondiente al primer, segundo y cuarto elemento de nuestra lista de periodos, haremos:\n",
        "\n"
      ]
    },
    {
      "cell_type": "code",
      "metadata": {
        "id": "64KxRbinP8fP",
        "colab": {
          "base_uri": "https://localhost:8080/"
        },
        "outputId": "51a86b01-66ea-4f2a-d38f-44f59aa4da6c"
      },
      "source": [
        "print(periodos[0]) # Primero elemento de la lista => índice 0\n",
        "print(periodos[1]) # Segundo elemento de la lista => índice 1\n",
        "print(periodos[3]) # Cuarto elemento de la lista => índice 3"
      ],
      "execution_count": 7,
      "outputs": [
        {
          "output_type": "stream",
          "text": [
            "2015\n",
            "2016\n",
            "2018\n"
          ],
          "name": "stdout"
        }
      ]
    },
    {
      "cell_type": "markdown",
      "metadata": {
        "id": "vpUWoW94QhSo"
      },
      "source": [
        "Los índices será muy útiles porque nos permitirán acceder a información de las listas, ya sea para obtener un dato o para modificarlo.\n",
        "\n",
        "Si quisiéramos imprimir todas las listas, podemos hacer uso de los ciclos que ya conocemos:"
      ]
    },
    {
      "cell_type": "code",
      "metadata": {
        "id": "d1WkpWKMQcAz",
        "colab": {
          "base_uri": "https://localhost:8080/"
        },
        "outputId": "235c7503-ace9-4037-900e-756ed92b97b8"
      },
      "source": [
        "n = len(periodos) # len devuelve la longitud de la lista\n",
        "\n",
        "for index in range(n):\n",
        "    print(periodos[index])"
      ],
      "execution_count": 8,
      "outputs": [
        {
          "output_type": "stream",
          "text": [
            "2015\n",
            "2016\n",
            "2017\n",
            "2018\n",
            "2019\n",
            "2020\n"
          ],
          "name": "stdout"
        }
      ]
    },
    {
      "cell_type": "markdown",
      "metadata": {
        "id": "_erDNFzIRD2D"
      },
      "source": [
        "Una ventaja de las listas, es que pueden considerarse como una representación abstracta de información tabular, ya que podemos crear listas cuyos contenidos sean listas.\n",
        "\n",
        "Un ejemplo de lo anterior sería considerar la siguiente tabla:\n",
        "\n",
        "| Periodo | Árboles |\n",
        "| ------- | ------- |\n",
        "|    2015 |     156 |\n",
        "|    2016 |     230 |\n",
        "|    2017 |     428 |\n",
        "|    2018 |     749 |\n",
        "|    2019 |     921 |\n",
        "|    2020 |    1048 |\n",
        "\n",
        "Podríamos representar esta tabla en forma de lista creando una lista de listas (esto es, una matriz) de la siguiente manera:"
      ]
    }
  ]
}