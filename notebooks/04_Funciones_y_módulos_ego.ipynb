{
  "nbformat": 4,
  "nbformat_minor": 0,
  "metadata": {
    "colab": {
      "name": "04-Funciones y módulos-ego.ipynb",
      "provenance": [],
      "authorship_tag": "ABX9TyPMILzhR8ErzPUVeyyiz1mw",
      "include_colab_link": true
    },
    "kernelspec": {
      "name": "python3",
      "display_name": "Python 3"
    }
  },
  "cells": [
    {
      "cell_type": "markdown",
      "metadata": {
        "id": "view-in-github",
        "colab_type": "text"
      },
      "source": [
        "<a href=\"https://colab.research.google.com/github/Egosman/hacking-civico/blob/master/notebooks/04_Funciones_y_m%C3%B3dulos_ego.ipynb\" target=\"_parent\"><img src=\"https://colab.research.google.com/assets/colab-badge.svg\" alt=\"Open In Colab\"/></a>"
      ]
    },
    {
      "cell_type": "markdown",
      "metadata": {
        "id": "zKQ6pRbHJdIT"
      },
      "source": [
        "<p align=\"center\">\n",
        "<img src=\"http://codeandomexico.org/resources/img/codeandomexico.png\" width=\"500\" alt=\"Codeando México\"><br>\n",
        "<a href=\"http://www.codeandomexico.org/\" target=\"_blank\"><img src=\"https://img.shields.io/badge/website-CodeandoMexico-00D88E.svg\"></a>\n",
        "<a href=\"http://slack.codeandomexico.org/\" target=\"_blank\"><img src=\"https://img.shields.io/badge/slack-CodeandoMexico-EC0E4F.svg\"></a>\n",
        "</p>\n",
        "<!-- __ -->\n",
        "\n",
        "# Curso de Datos Abiertos y Hacking Cívico\n",
        "\n",
        "Este curso tiene como objetivo habilitar las capacidades de la ciudadanía y los servidores públicos en el uso y generación de datos abiertos para el bien común. Puedes encontrar más información [aquí](https://github.com/CodeandoMexico/hacking-civico)."
      ]
    },
    {
      "cell_type": "markdown",
      "metadata": {
        "id": "zJbeRnwXM_JN"
      },
      "source": [
        "## A. Funciones\n",
        "\n",
        "La sintaxis de una función es muy sencilla. Para el nomberamiento, las funciones comparten las reglas que tienen las variables. Sin embargo, un detalle importante es anteponer la palabra reservada `def`, pues es la que especificará que se trata de una función. Una vez que hayamos especificado el nombre de la función, añadiremos los parámetros necesarios entre paréntesis y a continuación añadiremos el bloque de código que realizará la función, seguida de dos puntos para iniciar el bloque.\n",
        "\n",
        "Podemos ver un ejemplo sencillo de la sintaxis a continuación:\n",
        "\n",
        "```python\n",
        "def ejemplo_de_funcion():\n",
        "    print(\"Hola.\")\n",
        "```\n",
        "\n",
        "Una vez que hayamos definido una función, será necesario llamar o invocar a la función para que se ejecute:\n",
        "\n",
        "```python\n",
        "ejemplo_de_funcion()\n",
        "```"
      ]
    },
    {
      "cell_type": "markdown",
      "metadata": {
        "id": "jaOJR7MxViqu"
      },
      "source": [
        "Intentemos ejecutar una función que imprima una suma. Comenzaremos definiendo la función:"
      ]
    },
    {
      "cell_type": "code",
      "metadata": {
        "id": "CsmOPLMRVwnE"
      },
      "source": [
        "def primer_intento_de_suma():\n",
        "    print(1 + 2)"
      ],
      "execution_count": 1,
      "outputs": []
    },
    {
      "cell_type": "markdown",
      "metadata": {
        "id": "CP4dh0PxV5ls"
      },
      "source": [
        "Ahora procedemos a llamar o invocar a dicha función:"
      ]
    },
    {
      "cell_type": "code",
      "metadata": {
        "id": "7D6CSfjZV9DJ",
        "colab": {
          "base_uri": "https://localhost:8080/"
        },
        "outputId": "c9de4539-6871-45d9-f647-437ff5e8345f"
      },
      "source": [
        "primer_intento_de_suma()"
      ],
      "execution_count": 2,
      "outputs": [
        {
          "output_type": "stream",
          "text": [
            "3\n"
          ],
          "name": "stdout"
        }
      ]
    },
    {
      "cell_type": "markdown",
      "metadata": {
        "id": "0Z5YuG4eV_-f"
      },
      "source": [
        "Notemos que queremos que no siempre nos devuelva el resultado de sumar 1 y 2, sino que podamos de alguna manera especificar qué variables queremos operar. Es aquí donde entran los argumentos o parámetros de una función."
      ]
    },
    {
      "cell_type": "markdown",
      "metadata": {
        "id": "N7_SuyjnWNnL"
      },
      "source": [
        "### Parámetros de una función\n",
        "\n",
        "Si prestamos atención, ya hemos utilizado algunas funciones hasta ahora. Un ejemplo es la función `print`, a la que dentro de los paréntesis le especificamos un parámetro (o parámetros) que queremos que imprima. De esta misma manera podemos especificar parámetros a nuestras funciones dentro de los paréntesis. \n",
        "\n",
        "Volviendo al ejemplo de la función que suma, podemos hacer que la función imprima el resultado de sumar dos variables cualesquiera:"
      ]
    },
    {
      "cell_type": "code",
      "metadata": {
        "id": "goWZoU0iWstC"
      },
      "source": [
        "def segundo_intento_de_suma(a, b):\n",
        "    print(a + b)"
      ],
      "execution_count": 3,
      "outputs": []
    },
    {
      "cell_type": "markdown",
      "metadata": {
        "id": "3sRciF_nWw6c"
      },
      "source": [
        "Notemos que dentro de los paréntesis de la definición de la función hemos especificado los parámetros que utiliza una función para operar. Ahora invoquemos tres veces la función con valores numéricos distintos:"
      ]
    },
    {
      "cell_type": "code",
      "metadata": {
        "id": "WCPCnarJW8eX",
        "colab": {
          "base_uri": "https://localhost:8080/"
        },
        "outputId": "d8213435-792d-47de-ce18-dc272f364f41"
      },
      "source": [
        "segundo_intento_de_suma(1, 2)\n",
        "segundo_intento_de_suma(5, 8)\n",
        "segundo_intento_de_suma(1, -3)"
      ],
      "execution_count": 4,
      "outputs": [
        {
          "output_type": "stream",
          "text": [
            "3\n",
            "13\n",
            "-2\n"
          ],
          "name": "stdout"
        }
      ]
    },
    {
      "cell_type": "markdown",
      "metadata": {
        "id": "p61b4NljXFZ_"
      },
      "source": [
        "Como podemos ver, cada llamada a la función con distintos parámetros nos devuelve el resultado correspondiente."
      ]
    },
    {
      "cell_type": "markdown",
      "metadata": {
        "id": "JE-tvJ4UVSa1"
      },
      "source": [
        "**Ejercicio:** Crea una función llamada `imprime_producto`, que reciba 2 parámetros `a` y `b`, y que **imprima** el producto `a * b`."
      ]
    },
    {
      "cell_type": "code",
      "metadata": {
        "id": "ncUrzxjpAfcb"
      },
      "source": [
        "# generar una función para imprimir un producto\n",
        "def imprime_producto(a,b):\n",
        "  print(a*b)"
      ],
      "execution_count": 5,
      "outputs": []
    },
    {
      "cell_type": "code",
      "metadata": {
        "colab": {
          "base_uri": "https://localhost:8080/"
        },
        "id": "wWfrjuM-AxEE",
        "outputId": "4bbff0a1-1427-4ee5-d25f-01ec4df8205c"
      },
      "source": [
        "imprime_producto(2,8)\n",
        "imprime_producto(-1,5)\n",
        "imprime_producto(4,3)"
      ],
      "execution_count": 6,
      "outputs": [
        {
          "output_type": "stream",
          "text": [
            "16\n",
            "-5\n",
            "12\n"
          ],
          "name": "stdout"
        }
      ]
    },
    {
      "cell_type": "markdown",
      "metadata": {
        "id": "L78z72yBdGI8"
      },
      "source": [
        "### Retorno de una función\n",
        "\n",
        "Para finalizar esta sección, hace falta comprender sobre el retorno de una función; y es que si quisiéramos generalizar el empaquetar funcionalidad de manera modular para que podamos reproducir un proceso, será necesario entender esto.\n",
        "\n",
        "Una función, como hemos visto hasta ahora, empaqueta un bloque de código que podemos invocar al llamar a la función. Hasta ahora ya sabemos que se le pueden pasar argumentos de **entrada** pero comprendamos cómo podemos obtener variables resultantes de **salida**.\n",
        "\n",
        "Una función cuenta con una palabra reservada `return`, que cuando llamamos a una función y encuentra dicha palabra, la función termina su ejecución sin importar que haya código dentro de la función más abajo de dicha palabra. La palabra reservada `return` nos permite especificar qué se retorna de salida dentro de una función, por ejemplo:"
      ]
    },
    {
      "cell_type": "code",
      "metadata": {
        "id": "BWeevLAteKOg"
      },
      "source": [
        "def tercer_intento_de_suma(a, b):\n",
        "    resultado = a + b\n",
        "    return resultado"
      ],
      "execution_count": 7,
      "outputs": []
    },
    {
      "cell_type": "markdown",
      "metadata": {
        "id": "nh6HuF3_eQSa"
      },
      "source": [
        "Esta función permite retornar un valor resultante al llamar a la función, por lo que podemos igualar la función a una variable donde queremos que se guarde el resultado:"
      ]
    },
    {
      "cell_type": "code",
      "metadata": {
        "id": "zub7izDSeZXc",
        "colab": {
          "base_uri": "https://localhost:8080/"
        },
        "outputId": "211d7c3d-7974-4d89-eaed-931304e2f036"
      },
      "source": [
        "a_mas_b = tercer_intento_de_suma(23, 45)\n",
        "print(a_mas_b)"
      ],
      "execution_count": 8,
      "outputs": [
        {
          "output_type": "stream",
          "text": [
            "68\n"
          ],
          "name": "stdout"
        }
      ]
    },
    {
      "cell_type": "markdown",
      "metadata": {
        "id": "iaoHD-f_efq_"
      },
      "source": [
        "Como podemos ver, el poner un retorno de función nos permite almacenar el resultado de la suma en la variable `a_mas_b`."
      ]
    },
    {
      "cell_type": "markdown",
      "metadata": {
        "id": "liJ-QX9Menmr"
      },
      "source": [
        "**Ejercicio:** Crea una función llamada `retorna_producto`, que reciba 2 parámetros `a` y `b`, y que **retorne** el producto `a * b`.\n",
        "\n",
        "Llama a la función para distintos valores e imprime los resultados."
      ]
    },
    {
      "cell_type": "code",
      "metadata": {
        "id": "ZV3tAmUiBvyT"
      },
      "source": [
        "def retorna_producto(a,b):\n",
        "  resultado = a*b\n",
        "  return resultado"
      ],
      "execution_count": 11,
      "outputs": []
    },
    {
      "cell_type": "code",
      "metadata": {
        "colab": {
          "base_uri": "https://localhost:8080/"
        },
        "id": "A0jc0vkwCGeG",
        "outputId": "b0a60461-86f3-481e-bf78-0ddf8707bf2a"
      },
      "source": [
        "retorna_producto(2,4)"
      ],
      "execution_count": 12,
      "outputs": [
        {
          "output_type": "execute_result",
          "data": {
            "text/plain": [
              "8"
            ]
          },
          "metadata": {
            "tags": []
          },
          "execution_count": 12
        }
      ]
    },
    {
      "cell_type": "markdown",
      "metadata": {
        "id": "q8KLZEere1Mv"
      },
      "source": [
        "> **Nota:** Crear funciones nos permite estructurar código reutilizable. Por ejemplo, si tengo una lista de diccionarios que contiene un directorio de senadores y tengo el procesamiento que nos permite acceder a información uno de ellos, podemos crear una función y procesar la información de todos de la misma manera.\n",
        "> \n",
        "> Evaluemos lo anterior y creamos el directorio:"
      ]
    },
    {
      "cell_type": "code",
      "metadata": {
        "id": "oVpQnb4wfV29"
      },
      "source": [
        "directorio = [\n",
        "    {\n",
        "        \"nombre\": \"José López\",\n",
        "        \"edad\": 34,\n",
        "        \"municipio\": \"León\",\n",
        "        \"partido\": \"Partido del Verdadero Cambio\",\n",
        "        \"sesiones\": 56,\n",
        "        \"asistencias\": 20\n",
        "    },\n",
        "    {\n",
        "        \"nombre\": \"Jimena Macías\",\n",
        "        \"edad\": 25,\n",
        "        \"municipio\": \"León\",\n",
        "        \"partido\": \"Partido del Verdadero Cambio\",\n",
        "        \"sesiones\": 56,\n",
        "        \"asistencias\": 48\n",
        "    },\n",
        "    {\n",
        "        \"nombre\": \"Mariana Andrade\",\n",
        "        \"edad\": 28,\n",
        "        \"municipio\": \"León\",\n",
        "        \"partido\": \"Partido del Cambio Oportuno\",\n",
        "        \"sesiones\": 56,\n",
        "        \"asistencias\": 40\n",
        "    },\n",
        "    {\n",
        "        \"nombre\": \"Mario Pérez\",\n",
        "        \"edad\": 26,\n",
        "        \"municipio\": \"León\",\n",
        "        \"partido\": \"Partido del Cambio Oportuno\",\n",
        "        \"sesiones\": 56,\n",
        "        \"asistencias\": 54\n",
        "    }\n",
        "]"
      ],
      "execution_count": 13,
      "outputs": []
    },
    {
      "cell_type": "markdown",
      "metadata": {
        "id": "FhosS112fx6B"
      },
      "source": [
        "Ahora creamos una función que nos indicará si del total de las sesiones (56) los senadores han asistido al menos al 70% de las mismas:"
      ]
    },
    {
      "cell_type": "code",
      "metadata": {
        "id": "K5GBHZIPf6B9"
      },
      "source": [
        "def verifica_asistencias(senador, porcentaje_esperado):\n",
        "    total = senador['sesiones']\n",
        "    asistencias = senador['asistencias']\n",
        "\n",
        "    # Efectuamos una regla de 3 para calcular\n",
        "    # el porcentaje de asistencia\n",
        "    porcentaje_real = asistencias * 100 / total\n",
        "    \n",
        "    if porcentaje_real >= porcentaje_esperado:\n",
        "        mensaje = \"Ha cumplido con el porcentaje de asistencias.\"\n",
        "    else:\n",
        "        mensaje = \"NO ha cumplido con el porcentaje de asistencias.\"\n",
        "    \n",
        "    return mensaje"
      ],
      "execution_count": 14,
      "outputs": []
    },
    {
      "cell_type": "markdown",
      "metadata": {
        "id": "k4wFHiF-gfJ0"
      },
      "source": [
        "Y con esta función, de manera muy sencilla podemos iterar el directorio de funcionarios:"
      ]
    },
    {
      "cell_type": "code",
      "metadata": {
        "id": "85Uj7jDZgPl0",
        "colab": {
          "base_uri": "https://localhost:8080/"
        },
        "outputId": "0da4aeac-282a-45db-a510-2cf109192810"
      },
      "source": [
        "n = len(directorio)\n",
        "for index in range(n):\n",
        "    asistencia = verifica_asistencias(directorio[index], 75)\n",
        "    print(asistencia)"
      ],
      "execution_count": 15,
      "outputs": [
        {
          "output_type": "stream",
          "text": [
            "NO ha cumplido con el porcentaje de asistencias.\n",
            "Ha cumplido con el porcentaje de asistencias.\n",
            "NO ha cumplido con el porcentaje de asistencias.\n",
            "Ha cumplido con el porcentaje de asistencias.\n"
          ],
          "name": "stdout"
        }
      ]
    },
    {
      "cell_type": "markdown",
      "metadata": {
        "id": "i6w4eXE4PFLM"
      },
      "source": [
        "## B. Módulos\n",
        "\n",
        "En Python existen muchas bibliotecas de funcioncioes y paquetes para funcionalidad específica, por ejemplo para realizar análisis de datos, gráficos y visualizaciónes interactivas, modelar datos astrofísicos, procesar imágenes, etcétera.\n",
        "\n",
        "En particular, estos paquetes están formados por distintos módulos, que contienen funciones y objetos útiles para su tema.\n",
        "\n",
        "Python ya cuenta con algunos módulos parte de su biblioteca estándar de funciones, que nos permiten trabajar con diferentes cosas como números aleatorios, medición del tiempo, operaciones matemáticas más elaboradas, entre otras cosas."
      ]
    },
    {
      "cell_type": "markdown",
      "metadata": {
        "id": "0LlMWbuXy2Co"
      },
      "source": [
        "### Importar módulos\n",
        "\n",
        "Primero, necesitamos saber qué módulos existen, y la maner más sencilla es echar un vistazo a la documentación de Python.\n",
        "\n",
        "> Exploremos la `stdlib` de Python: https://docs.python.org/3/library/\n"
      ]
    },
    {
      "cell_type": "markdown",
      "metadata": {
        "id": "3ZNvy4CgzYRP"
      },
      "source": [
        "Ahora que conocemos algunos módulos que tiene Python, podemos proceder a importar alguno.\n",
        "\n",
        "Lo primero que necesitamos saber es la sintaxis para hacerlo, por ejemplo si sabemos que existe el módulo `math`, la manera más sencilla es importar tódo el módulo:"
      ]
    },
    {
      "cell_type": "code",
      "metadata": {
        "id": "uj4aETAqDPRs"
      },
      "source": [
        "import math"
      ],
      "execution_count": 16,
      "outputs": []
    },
    {
      "cell_type": "markdown",
      "metadata": {
        "id": "JuZTW39EzmAT"
      },
      "source": [
        "Lo anterior nos permitirá acceder a todas las funciones que tiene el módulo math, por ejemplo utilicemos la función factorial.\n",
        "\n",
        "Una vez que hemos importado `math`, podemos llamar directamente a la función `factorial`:"
      ]
    },
    {
      "cell_type": "code",
      "metadata": {
        "id": "GP3ah_o4zlko",
        "colab": {
          "base_uri": "https://localhost:8080/"
        },
        "outputId": "6405935f-e13d-4b66-fe7b-b356af2f90bd"
      },
      "source": [
        "math.factorial(3)"
      ],
      "execution_count": 17,
      "outputs": [
        {
          "output_type": "execute_result",
          "data": {
            "text/plain": [
              "6"
            ]
          },
          "metadata": {
            "tags": []
          },
          "execution_count": 17
        }
      ]
    },
    {
      "cell_type": "markdown",
      "metadata": {
        "id": "YKIycMZi0U_-"
      },
      "source": [
        "Una última manera en la que podemos importar módulos es utilizando un alias, lo que nos ayuda a escribir código más limpio y corto. Para esto, la sintaxis que se utiliza es la siguiente:"
      ]
    },
    {
      "cell_type": "code",
      "metadata": {
        "id": "Knh4P-0ID4tc"
      },
      "source": [
        "import math as m"
      ],
      "execution_count": 18,
      "outputs": []
    },
    {
      "cell_type": "markdown",
      "metadata": {
        "id": "m4mPrS4H0kF7"
      },
      "source": [
        "En este caso utilizo el alias `m` para el módulo de `math`que tiene Python, así que podemos hacer uso de sus funciones en el formato `m.función`. Veamos:"
      ]
    },
    {
      "cell_type": "code",
      "metadata": {
        "id": "Xi7XpMgC0jdO",
        "colab": {
          "base_uri": "https://localhost:8080/"
        },
        "outputId": "cb0e02b5-0a10-4b5d-c8ea-fef33f2ebf76"
      },
      "source": [
        "m.factorial(3)"
      ],
      "execution_count": 19,
      "outputs": [
        {
          "output_type": "execute_result",
          "data": {
            "text/plain": [
              "6"
            ]
          },
          "metadata": {
            "tags": []
          },
          "execution_count": 19
        }
      ]
    },
    {
      "cell_type": "markdown",
      "metadata": {
        "id": "o4wceI7a0u7C"
      },
      "source": [
        "### Ejemplos\n",
        "\n",
        "De esta manera hemos visto 3 formas en las que podemos importar algunos módulos y paquetes en Python. Esto nos resultará muy útil porque en las próximas sesiones estarás utilizando paquetes más robustos que permiten explorar y visualizar datos.\n",
        "\n",
        "Por ahora exploremos algunos ejemplos del módulo `random`, para crear números aleatorios."
      ]
    },
    {
      "cell_type": "code",
      "metadata": {
        "id": "z4isNhgxEO2m"
      },
      "source": [
        "import random as rnd"
      ],
      "execution_count": 20,
      "outputs": []
    },
    {
      "cell_type": "code",
      "metadata": {
        "id": "vww-YRu81EvT"
      },
      "source": [
        "def lanza_dado():\n",
        "    num = rnd.randint(1, 6)\n",
        "    return num"
      ],
      "execution_count": 21,
      "outputs": []
    },
    {
      "cell_type": "code",
      "metadata": {
        "id": "aSBOZ3oE1LgJ",
        "colab": {
          "base_uri": "https://localhost:8080/"
        },
        "outputId": "637ba7ce-0718-4f59-f2d4-6d42fc83c1a5"
      },
      "source": [
        "dado_1 = lanza_dado()\n",
        "dado_2 = lanza_dado()\n",
        "\n",
        "print(\"Dado 1:\", dado_1)\n",
        "print(\"Dado 2:\", dado_2)"
      ],
      "execution_count": 22,
      "outputs": [
        {
          "output_type": "stream",
          "text": [
            "Dado 1: 1\n",
            "Dado 2: 5\n"
          ],
          "name": "stdout"
        }
      ]
    },
    {
      "cell_type": "code",
      "metadata": {
        "id": "fHNdS3CS1PaA"
      },
      "source": [
        "def lanza_dados(n_dados):\n",
        "    total = 0\n",
        "    \n",
        "    for i in range(n_dados):\n",
        "        total = total + lanza_dado()\n",
        "    \n",
        "    return total"
      ],
      "execution_count": 23,
      "outputs": []
    },
    {
      "cell_type": "code",
      "metadata": {
        "id": "MKZROg2C19o6",
        "colab": {
          "base_uri": "https://localhost:8080/"
        },
        "outputId": "948ad00f-198a-419a-9bdc-62c4c6fc4846"
      },
      "source": [
        "dados = lanza_dados(2)\n",
        "print(dados)"
      ],
      "execution_count": 24,
      "outputs": [
        {
          "output_type": "stream",
          "text": [
            "8\n"
          ],
          "name": "stdout"
        }
      ]
    },
    {
      "cell_type": "markdown",
      "metadata": {
        "id": "LruuyYtG2Jko"
      },
      "source": [
        "**Ejercicio:** Crea una función llamada `lanza_dado(N)`, que reciba 1 parámetro `N` donde `N` es el número de caras del dado.\n",
        "\n",
        "> **Pista:** Usa `randint(a, b)` con `a = 1` y `b = N` para que el número aleatorio que te devuelva sea un valor entre 1 y N, el número de caras del dado."
      ]
    },
    {
      "cell_type": "code",
      "metadata": {
        "id": "VnkoIQ0kEnj6"
      },
      "source": [
        "def lanza_dado(N):\n",
        "  num2 = rnd.randint(1,N)\n",
        "  return num2"
      ],
      "execution_count": 25,
      "outputs": []
    },
    {
      "cell_type": "code",
      "metadata": {
        "colab": {
          "base_uri": "https://localhost:8080/"
        },
        "id": "PlTcUtn_FVfw",
        "outputId": "f70f8ffd-fd71-42cf-9315-879abd46d0b8"
      },
      "source": [
        "print(\"Dado 1\", lanza_dado(6))\n",
        "print(\"Dado 2\", lanza_dado(8))"
      ],
      "execution_count": 31,
      "outputs": [
        {
          "output_type": "stream",
          "text": [
            "Dado 1 6\n",
            "Dado 2 3\n"
          ],
          "name": "stdout"
        }
      ]
    }
  ]
}